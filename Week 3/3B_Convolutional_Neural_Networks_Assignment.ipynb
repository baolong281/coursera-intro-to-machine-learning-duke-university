{
 "cells": [
  {
   "cell_type": "markdown",
   "metadata": {},
   "source": [
    "# PyTorch Assignment: Convolutional Neural Network (CNN)"
   ]
  },
  {
   "cell_type": "markdown",
   "metadata": {},
   "source": [
    "**[Duke Community Standard](http://integrity.duke.edu/standard.html): By typing your name below, you are certifying that you have adhered to the Duke Community Standard in completing this assignment.**\n",
    "\n",
    "Name: Abhinav Tembulkar"
   ]
  },
  {
   "cell_type": "markdown",
   "metadata": {},
   "source": [
    "### Convolutional Neural Network\n",
    "\n",
    "Adapt the CNN example for MNIST digit classfication from Notebook 3A. \n",
    "Feel free to play around with the model architecture and see how the training time/performance changes, but to begin, try the following:\n",
    "\n",
    "Image ->  \n",
    "convolution (32 3x3 filters) -> nonlinearity (ReLU) ->  \n",
    "convolution (32 3x3 filters) -> nonlinearity (ReLU) -> (2x2 max pool) ->  \n",
    "convolution (64 3x3 filters) -> nonlinearity (ReLU) ->  \n",
    "convolution (64 3x3 filters) -> nonlinearity (ReLU) -> (2x2 max pool) -> flatten ->\n",
    "fully connected (256 hidden units) -> nonlinearity (ReLU) ->  \n",
    "fully connected (10 hidden units) -> softmax \n",
    "\n",
    "Note: The CNN model might take a while to train. Depending on your machine, you might expect this to take up to half an hour. If you see your validation performance start to plateau, you can kill the training."
   ]
  },
  {
   "cell_type": "code",
   "execution_count": 1,
   "metadata": {},
   "outputs": [
    {
     "name": "stdout",
     "output_type": "stream",
     "text": [
      "torch.Size([100, 1, 28, 28]) torch.Size([100])\n",
      "EPOCH: 1\n"
     ]
    },
    {
     "data": {
      "application/vnd.jupyter.widget-view+json": {
       "model_id": "3808e0f08e64411a9f80111a10a77c2e",
       "version_major": 2,
       "version_minor": 0
      },
      "text/plain": [
       "  0%|          | 0/600 [00:00<?, ?it/s]"
      ]
     },
     "metadata": {},
     "output_type": "display_data"
    },
    {
     "name": "stdout",
     "output_type": "stream",
     "text": [
      "EPOCH: 2\n"
     ]
    },
    {
     "data": {
      "application/vnd.jupyter.widget-view+json": {
       "model_id": "ca082caefb614db9b364641b0408ff35",
       "version_major": 2,
       "version_minor": 0
      },
      "text/plain": [
       "  0%|          | 0/600 [00:00<?, ?it/s]"
      ]
     },
     "metadata": {},
     "output_type": "display_data"
    },
    {
     "name": "stdout",
     "output_type": "stream",
     "text": [
      "EPOCH: 3\n"
     ]
    },
    {
     "data": {
      "application/vnd.jupyter.widget-view+json": {
       "model_id": "21b5432912bb4823a48f0aee46450720",
       "version_major": 2,
       "version_minor": 0
      },
      "text/plain": [
       "  0%|          | 0/600 [00:00<?, ?it/s]"
      ]
     },
     "metadata": {},
     "output_type": "display_data"
    },
    {
     "data": {
      "image/png": "[encoded data removed]",
      "text/plain": [
       "<Figure size 432x288 with 1 Axes>"
      ]
     },
     "metadata": {
      "needs_background": "light"
     },
     "output_type": "display_data"
    }
   ],
   "source": [
    "import torch\n",
    "import torch.functional as F\n",
    "import torchvision\n",
    "import matplotlib.pyplot as plt\n",
    "import numpy as np\n",
    "import torch.nn as nn\n",
    "from tqdm.notebook import tqdm\n",
    "\n",
    "train = torchvision.datasets.MNIST(root='./datasets/', transform=torchvision.transforms.ToTensor(), download=True, train=True)\n",
    "test = torchvision.datasets.MNIST(root='./datasets/', transform=torchvision.transforms.ToTensor(), download=True, train=False)\n",
    "\n",
    "train_loader = torch.utils.data.DataLoader(train, batch_size=100, shuffle=True)\n",
    "test_loader = torch.utils.data.DataLoader(test, batch_size=100, shuffle=False)\n",
    "trainal, testal = next(iter(train_loader)) \n",
    "print(trainal.shape, testal.shape)\n",
    "class CNN(nn.Module):\n",
    "\tdef __init__(self):\n",
    "\t\tsuper().__init__()\n",
    "\n",
    "\t\tself.layers = nn.Sequential(\n",
    "\t\t\tnn.Conv2d(1, 32, kernel_size=3),\n",
    "\t\t\tnn.ReLU(),\n",
    "\t\t\tnn.Conv2d(32, 32, kernel_size=3),\n",
    "\t\t\tnn.ReLU(),\n",
    "\t\t\tnn.MaxPool2d(kernel_size=2),\n",
    "\t\t\tnn.Conv2d(32, 64, kernel_size=3),\n",
    "\t\t\tnn.ReLU(),\n",
    "\t\t\tnn.Conv2d(64, 64, kernel_size=3),\n",
    "\t\t\tnn.ReLU(),\n",
    "\t\t\tnn.MaxPool2d(kernel_size=2),\n",
    "\t\t\tnn.Flatten(),\n",
    "\t\t\tnn.Linear(1024, 256),\n",
    "\t\t\tnn.ReLU(),\n",
    "\t\t\tnn.Linear(256, 10)\n",
    "\t\t\t)\n",
    "\n",
    "\tdef forward(self, x):\n",
    "\t\tout = self.layers(x)\n",
    "\t\treturn out\n",
    "model = CNN()\n",
    "optimizer = torch.optim.Adam(params=model.parameters(), lr=.01)\n",
    "loss_fn = torch.nn.CrossEntropyLoss()\n",
    "loss_arr = []\n",
    "\n",
    "for epoch in range (3):\n",
    "\n",
    "\tprint(f'EPOCH: {epoch+1}')\n",
    "\n",
    "\tfor train, test in tqdm(train_loader):\n",
    "\t\toptimizer.zero_grad()\n",
    "\t\tx = train\n",
    "\t\ty = model(x)\n",
    "\t\tloss = loss_fn(y, test)\n",
    "\t\tloss_arr.append(loss)\n",
    "\t\tloss.backward()\n",
    "\t\toptimizer.step()\n",
    "\tx_steps = torch.linspace(0, len(loss_arr), len(loss_arr))\n",
    "\tplt.plot(x_steps, list(map(lambda x: x.detach().numpy(), loss_arr)))\n"
   ]
  },
  {
   "cell_type": "code",
   "execution_count": 2,
   "metadata": {},
   "outputs": [],
   "source": [
    "torch.save(model.state_dict(), 'model.pt')\t"
   ]
  },
  {
   "cell_type": "code",
   "execution_count": 6,
   "metadata": {},
   "outputs": [
    {
     "name": "stdout",
     "output_type": "stream",
     "text": [
      "torch.Size([100])\n"
     ]
    },
    {
     "data": {
      "image/png": "[encoded data removed]",
      "text/plain": [
       "<Figure size 432x288 with 100 Axes>"
      ]
     },
     "metadata": {
      "needs_background": "light"
     },
     "output_type": "display_data"
    }
   ],
   "source": [
    "x_test, y_test = next(iter(test_loader))\n",
    "predictions = model(x_test)\n",
    "predictions = torch.argmax(predictions, dim=1)\n",
    "\n",
    "x_test = x_test.view(-1, 28, 28)\n",
    "\n",
    "fig, ax = plt.subplots(nrows=10, ncols=10)\n",
    "\n",
    "for index, im in enumerate(x_test):\n",
    "\tfig[0].imshow(im)\n"
   ]
  },
  {
   "cell_type": "code",
   "execution_count": null,
   "metadata": {},
   "outputs": [],
   "source": []
  }
 ],
 "metadata": {
  "kernelspec": {
   "display_name": "Python 3.9.15 ('pytorch')",
   "language": "python",
   "name": "python3"
  },
  "language_info": {
   "codemirror_mode": {
    "name": "ipython",
    "version": 3
   },
   "file_extension": ".py",
   "mimetype": "text/x-python",
   "name": "python",
   "nbconvert_exporter": "python",
   "pygments_lexer": "ipython3",
   "version": "3.9.15"
  },
  "vscode": {
   "interpreter": {
    "hash": "7fd94f72ba5d23607e2b0cda25bc437917db5ea74d5fca5038af62b0d9949cd1"
   }
  }
 },
 "nbformat": 4,
 "nbformat_minor": 2
}
